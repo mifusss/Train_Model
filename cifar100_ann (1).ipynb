{
  "nbformat": 4,
  "nbformat_minor": 0,
  "metadata": {
    "colab": {
      "name": "cifar100_ann.ipynb",
      "provenance": [],
      "collapsed_sections": []
    },
    "kernelspec": {
      "name": "python3",
      "display_name": "Python 3"
    },
    "language_info": {
      "name": "python"
    },
    "accelerator": "GPU"
  },
  "cells": [
    {
      "cell_type": "code",
      "execution_count": null,
      "metadata": {
        "id": "DyIYAlVFKJS5"
      },
      "outputs": [],
      "source": [
        "import numpy as np\n",
        "import pandas as pd\n",
        "import cv2\n",
        "from keras.models import Sequential\n",
        "from tensorflow.keras import datasets, layers,models\n",
        "import matplotlib.pyplot as plt\n",
        "from tensorflow import keras\n",
        "from keras.layers import Dense, Activation,Dropout,Flatten\n",
        "from keras.datasets import cifar100\n",
        "from tensorflow.keras.optimizers import Adam\n",
        "from sklearn.preprocessing import StandardScaler\n",
        "from keras.utils import np_utils\n",
        "import tensorflow as tf"
      ]
    },
    {
      "cell_type": "code",
      "source": [
        "(x_train, y_train), (x_test, y_test) = cifar100.load_data()"
      ],
      "metadata": {
        "colab": {
          "base_uri": "https://localhost:8080/"
        },
        "id": "c7-3mJNvKNlc",
        "outputId": "f7e7496f-9375-4a91-901f-62cd2a4c1fda"
      },
      "execution_count": null,
      "outputs": [
        {
          "output_type": "stream",
          "name": "stdout",
          "text": [
            "Downloading data from https://www.cs.toronto.edu/~kriz/cifar-100-python.tar.gz\n",
            "169009152/169001437 [==============================] - 11s 0us/step\n",
            "169017344/169001437 [==============================] - 11s 0us/step\n"
          ]
        }
      ]
    },
    {
      "cell_type": "code",
      "source": [
        "print('Size of train data {}'.format(x_train.shape))\n",
        "print('Size of test data {}'.format(x_test.shape))"
      ],
      "metadata": {
        "colab": {
          "base_uri": "https://localhost:8080/"
        },
        "id": "-fXShqTMKOPp",
        "outputId": "fe349371-2504-4fbd-83ad-6727494c0bfd"
      },
      "execution_count": null,
      "outputs": [
        {
          "output_type": "stream",
          "name": "stdout",
          "text": [
            "Size of train data (50000, 32, 32, 3)\n",
            "Size of test data (10000, 32, 32, 3)\n"
          ]
        }
      ]
    },
    {
      "cell_type": "code",
      "source": [
        "x_pre = x_test\n",
        "y_ktr = y_test\n",
        "x_train = x_train.reshape(x_train.shape[0], -1)\n",
        "x_test = x_test.reshape(x_test.shape[0], -1)\n",
        "x_train = x_train.astype('float32')\n",
        "x_test = x_test.astype('float32')\n",
        "# ĐƯA GIÁ TRỊ VỀ TỪ 0-1\n",
        "x_train /= 255\n",
        "x_test /= 255\n",
        "y_train = np_utils.to_categorical(y_train, 100)\n",
        "y_test = np_utils.to_categorical(y_test, 100)"
      ],
      "metadata": {
        "id": "O8vMv9sEKP8f"
      },
      "execution_count": null,
      "outputs": []
    },
    {
      "cell_type": "code",
      "source": [
        "model = Sequential()\n",
        "model.add(Dense(512, activation='relu',\n",
        "input_shape = (x_train.shape[1],)))\n",
        "model.add(Dropout(0.2))\n",
        "model.add(Dense(256,activation='relu'))\n",
        "model.add(Dropout(0.1))\n",
        "model.add(Dense(100,activation='softmax'))\n",
        "model.summary()\n",
        "model.compile(loss='mean_squared_error',optimizer =Adam(), metrics=['acc'])\n",
        "history = model.fit(x_train, y_train, batch_size =256, epochs = 100, validation_split = 0.2)"
      ],
      "metadata": {
        "colab": {
          "base_uri": "https://localhost:8080/"
        },
        "id": "CO3T3hhoKRjc",
        "outputId": "d594e855-89fb-4a52-a709-083f94bbfbd6"
      },
      "execution_count": null,
      "outputs": [
        {
          "output_type": "stream",
          "name": "stdout",
          "text": [
            "Model: \"sequential\"\n",
            "_________________________________________________________________\n",
            " Layer (type)                Output Shape              Param #   \n",
            "=================================================================\n",
            " dense (Dense)               (None, 512)               1573376   \n",
            "                                                                 \n",
            " dropout (Dropout)           (None, 512)               0         \n",
            "                                                                 \n",
            " dense_1 (Dense)             (None, 256)               131328    \n",
            "                                                                 \n",
            " dropout_1 (Dropout)         (None, 256)               0         \n",
            "                                                                 \n",
            " dense_2 (Dense)             (None, 100)               25700     \n",
            "                                                                 \n",
            "=================================================================\n",
            "Total params: 1,730,404\n",
            "Trainable params: 1,730,404\n",
            "Non-trainable params: 0\n",
            "_________________________________________________________________\n",
            "Epoch 1/100\n",
            "157/157 [==============================] - 4s 11ms/step - loss: 0.0098 - acc: 0.0399 - val_loss: 0.0097 - val_acc: 0.0689\n",
            "Epoch 2/100\n",
            "157/157 [==============================] - 1s 8ms/step - loss: 0.0097 - acc: 0.0666 - val_loss: 0.0096 - val_acc: 0.0896\n",
            "Epoch 3/100\n",
            "157/157 [==============================] - 1s 9ms/step - loss: 0.0096 - acc: 0.0852 - val_loss: 0.0096 - val_acc: 0.1109\n",
            "Epoch 4/100\n",
            "157/157 [==============================] - 1s 8ms/step - loss: 0.0096 - acc: 0.0958 - val_loss: 0.0095 - val_acc: 0.1173\n",
            "Epoch 5/100\n",
            "157/157 [==============================] - 1s 9ms/step - loss: 0.0095 - acc: 0.1075 - val_loss: 0.0095 - val_acc: 0.1321\n",
            "Epoch 6/100\n",
            "157/157 [==============================] - 1s 9ms/step - loss: 0.0095 - acc: 0.1174 - val_loss: 0.0094 - val_acc: 0.1313\n",
            "Epoch 7/100\n",
            "157/157 [==============================] - 1s 8ms/step - loss: 0.0095 - acc: 0.1226 - val_loss: 0.0094 - val_acc: 0.1385\n",
            "Epoch 8/100\n",
            "157/157 [==============================] - 1s 9ms/step - loss: 0.0094 - acc: 0.1290 - val_loss: 0.0093 - val_acc: 0.1451\n",
            "Epoch 9/100\n",
            "157/157 [==============================] - 1s 9ms/step - loss: 0.0094 - acc: 0.1376 - val_loss: 0.0093 - val_acc: 0.1479\n",
            "Epoch 10/100\n",
            "157/157 [==============================] - 1s 9ms/step - loss: 0.0094 - acc: 0.1412 - val_loss: 0.0093 - val_acc: 0.1596\n",
            "Epoch 11/100\n",
            "157/157 [==============================] - 1s 9ms/step - loss: 0.0093 - acc: 0.1428 - val_loss: 0.0093 - val_acc: 0.1576\n",
            "Epoch 12/100\n",
            "157/157 [==============================] - 1s 9ms/step - loss: 0.0093 - acc: 0.1524 - val_loss: 0.0092 - val_acc: 0.1644\n",
            "Epoch 13/100\n",
            "157/157 [==============================] - 1s 8ms/step - loss: 0.0093 - acc: 0.1533 - val_loss: 0.0093 - val_acc: 0.1559\n",
            "Epoch 14/100\n",
            "157/157 [==============================] - 1s 9ms/step - loss: 0.0093 - acc: 0.1575 - val_loss: 0.0092 - val_acc: 0.1695\n",
            "Epoch 15/100\n",
            "157/157 [==============================] - 1s 8ms/step - loss: 0.0092 - acc: 0.1621 - val_loss: 0.0092 - val_acc: 0.1726\n",
            "Epoch 16/100\n",
            "157/157 [==============================] - 1s 9ms/step - loss: 0.0092 - acc: 0.1683 - val_loss: 0.0092 - val_acc: 0.1738\n",
            "Epoch 17/100\n",
            "157/157 [==============================] - 1s 9ms/step - loss: 0.0092 - acc: 0.1690 - val_loss: 0.0091 - val_acc: 0.1768\n",
            "Epoch 18/100\n",
            "157/157 [==============================] - 1s 8ms/step - loss: 0.0092 - acc: 0.1699 - val_loss: 0.0091 - val_acc: 0.1791\n",
            "Epoch 19/100\n",
            "157/157 [==============================] - 1s 9ms/step - loss: 0.0091 - acc: 0.1736 - val_loss: 0.0091 - val_acc: 0.1838\n",
            "Epoch 20/100\n",
            "157/157 [==============================] - 1s 9ms/step - loss: 0.0091 - acc: 0.1786 - val_loss: 0.0091 - val_acc: 0.1807\n",
            "Epoch 21/100\n",
            "157/157 [==============================] - 1s 9ms/step - loss: 0.0091 - acc: 0.1798 - val_loss: 0.0091 - val_acc: 0.1796\n",
            "Epoch 22/100\n",
            "157/157 [==============================] - 1s 9ms/step - loss: 0.0091 - acc: 0.1799 - val_loss: 0.0091 - val_acc: 0.1800\n",
            "Epoch 23/100\n",
            "157/157 [==============================] - 1s 9ms/step - loss: 0.0091 - acc: 0.1828 - val_loss: 0.0091 - val_acc: 0.1873\n",
            "Epoch 24/100\n",
            "157/157 [==============================] - 1s 8ms/step - loss: 0.0091 - acc: 0.1834 - val_loss: 0.0091 - val_acc: 0.1851\n",
            "Epoch 25/100\n",
            "157/157 [==============================] - 1s 8ms/step - loss: 0.0091 - acc: 0.1875 - val_loss: 0.0091 - val_acc: 0.1883\n",
            "Epoch 26/100\n",
            "157/157 [==============================] - 1s 9ms/step - loss: 0.0090 - acc: 0.1922 - val_loss: 0.0091 - val_acc: 0.1869\n",
            "Epoch 27/100\n",
            "157/157 [==============================] - 1s 8ms/step - loss: 0.0090 - acc: 0.1970 - val_loss: 0.0091 - val_acc: 0.1871\n",
            "Epoch 28/100\n",
            "157/157 [==============================] - 1s 8ms/step - loss: 0.0090 - acc: 0.1952 - val_loss: 0.0090 - val_acc: 0.1950\n",
            "Epoch 29/100\n",
            "157/157 [==============================] - 1s 8ms/step - loss: 0.0090 - acc: 0.1991 - val_loss: 0.0090 - val_acc: 0.1986\n",
            "Epoch 30/100\n",
            "157/157 [==============================] - 1s 8ms/step - loss: 0.0090 - acc: 0.2019 - val_loss: 0.0090 - val_acc: 0.1954\n",
            "Epoch 31/100\n",
            "157/157 [==============================] - 1s 9ms/step - loss: 0.0089 - acc: 0.2021 - val_loss: 0.0090 - val_acc: 0.1988\n",
            "Epoch 32/100\n",
            "157/157 [==============================] - 1s 8ms/step - loss: 0.0089 - acc: 0.2056 - val_loss: 0.0090 - val_acc: 0.1948\n",
            "Epoch 33/100\n",
            "157/157 [==============================] - 1s 8ms/step - loss: 0.0089 - acc: 0.2087 - val_loss: 0.0090 - val_acc: 0.1960\n",
            "Epoch 34/100\n",
            "157/157 [==============================] - 1s 8ms/step - loss: 0.0089 - acc: 0.2085 - val_loss: 0.0090 - val_acc: 0.1971\n",
            "Epoch 35/100\n",
            "157/157 [==============================] - 1s 9ms/step - loss: 0.0089 - acc: 0.2107 - val_loss: 0.0090 - val_acc: 0.2025\n",
            "Epoch 36/100\n",
            "157/157 [==============================] - 1s 8ms/step - loss: 0.0089 - acc: 0.2145 - val_loss: 0.0090 - val_acc: 0.1985\n",
            "Epoch 37/100\n",
            "157/157 [==============================] - 1s 9ms/step - loss: 0.0089 - acc: 0.2132 - val_loss: 0.0090 - val_acc: 0.2025\n",
            "Epoch 38/100\n",
            "157/157 [==============================] - 1s 9ms/step - loss: 0.0088 - acc: 0.2167 - val_loss: 0.0090 - val_acc: 0.2034\n",
            "Epoch 39/100\n",
            "157/157 [==============================] - 1s 9ms/step - loss: 0.0088 - acc: 0.2175 - val_loss: 0.0090 - val_acc: 0.1985\n",
            "Epoch 40/100\n",
            "157/157 [==============================] - 1s 8ms/step - loss: 0.0088 - acc: 0.2190 - val_loss: 0.0090 - val_acc: 0.2036\n",
            "Epoch 41/100\n",
            "157/157 [==============================] - 1s 9ms/step - loss: 0.0088 - acc: 0.2212 - val_loss: 0.0090 - val_acc: 0.2028\n",
            "Epoch 42/100\n",
            "157/157 [==============================] - 1s 8ms/step - loss: 0.0088 - acc: 0.2221 - val_loss: 0.0090 - val_acc: 0.2022\n",
            "Epoch 43/100\n",
            "157/157 [==============================] - 1s 9ms/step - loss: 0.0088 - acc: 0.2220 - val_loss: 0.0090 - val_acc: 0.2056\n",
            "Epoch 44/100\n",
            "157/157 [==============================] - 1s 8ms/step - loss: 0.0088 - acc: 0.2234 - val_loss: 0.0089 - val_acc: 0.2065\n",
            "Epoch 45/100\n",
            "157/157 [==============================] - 1s 8ms/step - loss: 0.0088 - acc: 0.2254 - val_loss: 0.0090 - val_acc: 0.2019\n",
            "Epoch 46/100\n",
            "157/157 [==============================] - 1s 8ms/step - loss: 0.0087 - acc: 0.2314 - val_loss: 0.0090 - val_acc: 0.2032\n",
            "Epoch 47/100\n",
            "157/157 [==============================] - 1s 9ms/step - loss: 0.0087 - acc: 0.2305 - val_loss: 0.0089 - val_acc: 0.2084\n",
            "Epoch 48/100\n",
            "157/157 [==============================] - 1s 9ms/step - loss: 0.0087 - acc: 0.2301 - val_loss: 0.0090 - val_acc: 0.2067\n",
            "Epoch 49/100\n",
            "157/157 [==============================] - 1s 9ms/step - loss: 0.0087 - acc: 0.2294 - val_loss: 0.0090 - val_acc: 0.2050\n",
            "Epoch 50/100\n",
            "157/157 [==============================] - 2s 10ms/step - loss: 0.0087 - acc: 0.2333 - val_loss: 0.0090 - val_acc: 0.2057\n",
            "Epoch 51/100\n",
            "157/157 [==============================] - 1s 9ms/step - loss: 0.0087 - acc: 0.2364 - val_loss: 0.0089 - val_acc: 0.2071\n",
            "Epoch 52/100\n",
            "157/157 [==============================] - 1s 8ms/step - loss: 0.0087 - acc: 0.2336 - val_loss: 0.0090 - val_acc: 0.2051\n",
            "Epoch 53/100\n",
            "157/157 [==============================] - 1s 9ms/step - loss: 0.0087 - acc: 0.2376 - val_loss: 0.0090 - val_acc: 0.2090\n",
            "Epoch 54/100\n",
            "157/157 [==============================] - 1s 9ms/step - loss: 0.0087 - acc: 0.2405 - val_loss: 0.0090 - val_acc: 0.2081\n",
            "Epoch 55/100\n",
            "157/157 [==============================] - 1s 8ms/step - loss: 0.0087 - acc: 0.2407 - val_loss: 0.0089 - val_acc: 0.2109\n",
            "Epoch 56/100\n",
            "157/157 [==============================] - 1s 9ms/step - loss: 0.0086 - acc: 0.2444 - val_loss: 0.0090 - val_acc: 0.2090\n",
            "Epoch 57/100\n",
            "157/157 [==============================] - 2s 11ms/step - loss: 0.0087 - acc: 0.2395 - val_loss: 0.0090 - val_acc: 0.2063\n",
            "Epoch 58/100\n",
            "157/157 [==============================] - 2s 10ms/step - loss: 0.0086 - acc: 0.2429 - val_loss: 0.0089 - val_acc: 0.2149\n",
            "Epoch 59/100\n",
            "157/157 [==============================] - 1s 9ms/step - loss: 0.0086 - acc: 0.2472 - val_loss: 0.0089 - val_acc: 0.2120\n",
            "Epoch 60/100\n",
            "157/157 [==============================] - 1s 9ms/step - loss: 0.0086 - acc: 0.2464 - val_loss: 0.0090 - val_acc: 0.2069\n",
            "Epoch 61/100\n",
            "157/157 [==============================] - 1s 9ms/step - loss: 0.0086 - acc: 0.2459 - val_loss: 0.0090 - val_acc: 0.2104\n",
            "Epoch 62/100\n",
            "157/157 [==============================] - 1s 9ms/step - loss: 0.0086 - acc: 0.2493 - val_loss: 0.0089 - val_acc: 0.2102\n",
            "Epoch 63/100\n",
            "157/157 [==============================] - 1s 9ms/step - loss: 0.0086 - acc: 0.2483 - val_loss: 0.0089 - val_acc: 0.2139\n",
            "Epoch 64/100\n",
            "157/157 [==============================] - 1s 8ms/step - loss: 0.0086 - acc: 0.2498 - val_loss: 0.0089 - val_acc: 0.2115\n",
            "Epoch 65/100\n",
            "157/157 [==============================] - 1s 9ms/step - loss: 0.0085 - acc: 0.2549 - val_loss: 0.0089 - val_acc: 0.2123\n",
            "Epoch 66/100\n",
            "157/157 [==============================] - 1s 9ms/step - loss: 0.0085 - acc: 0.2545 - val_loss: 0.0089 - val_acc: 0.2154\n",
            "Epoch 67/100\n",
            "157/157 [==============================] - 1s 9ms/step - loss: 0.0085 - acc: 0.2529 - val_loss: 0.0089 - val_acc: 0.2151\n",
            "Epoch 68/100\n",
            "157/157 [==============================] - 1s 9ms/step - loss: 0.0085 - acc: 0.2539 - val_loss: 0.0089 - val_acc: 0.2098\n",
            "Epoch 69/100\n",
            "157/157 [==============================] - 1s 9ms/step - loss: 0.0085 - acc: 0.2572 - val_loss: 0.0089 - val_acc: 0.2150\n",
            "Epoch 70/100\n",
            "157/157 [==============================] - 1s 9ms/step - loss: 0.0085 - acc: 0.2564 - val_loss: 0.0089 - val_acc: 0.2104\n",
            "Epoch 71/100\n",
            "157/157 [==============================] - 1s 9ms/step - loss: 0.0085 - acc: 0.2559 - val_loss: 0.0089 - val_acc: 0.2103\n",
            "Epoch 72/100\n",
            "157/157 [==============================] - 1s 9ms/step - loss: 0.0085 - acc: 0.2569 - val_loss: 0.0089 - val_acc: 0.2186\n",
            "Epoch 73/100\n",
            "157/157 [==============================] - 1s 9ms/step - loss: 0.0085 - acc: 0.2638 - val_loss: 0.0089 - val_acc: 0.2121\n",
            "Epoch 74/100\n",
            "157/157 [==============================] - 1s 9ms/step - loss: 0.0085 - acc: 0.2606 - val_loss: 0.0089 - val_acc: 0.2136\n",
            "Epoch 75/100\n",
            "157/157 [==============================] - 1s 9ms/step - loss: 0.0085 - acc: 0.2631 - val_loss: 0.0089 - val_acc: 0.2110\n",
            "Epoch 76/100\n",
            "157/157 [==============================] - 1s 8ms/step - loss: 0.0085 - acc: 0.2618 - val_loss: 0.0089 - val_acc: 0.2183\n",
            "Epoch 77/100\n",
            "157/157 [==============================] - 1s 8ms/step - loss: 0.0085 - acc: 0.2622 - val_loss: 0.0089 - val_acc: 0.2106\n",
            "Epoch 78/100\n",
            "157/157 [==============================] - 1s 8ms/step - loss: 0.0085 - acc: 0.2649 - val_loss: 0.0089 - val_acc: 0.2092\n",
            "Epoch 79/100\n",
            "157/157 [==============================] - 1s 8ms/step - loss: 0.0084 - acc: 0.2655 - val_loss: 0.0089 - val_acc: 0.2194\n",
            "Epoch 80/100\n",
            "157/157 [==============================] - 1s 8ms/step - loss: 0.0084 - acc: 0.2675 - val_loss: 0.0089 - val_acc: 0.2162\n",
            "Epoch 81/100\n",
            "157/157 [==============================] - 1s 8ms/step - loss: 0.0084 - acc: 0.2664 - val_loss: 0.0089 - val_acc: 0.2159\n",
            "Epoch 82/100\n",
            "157/157 [==============================] - 1s 8ms/step - loss: 0.0084 - acc: 0.2707 - val_loss: 0.0089 - val_acc: 0.2120\n",
            "Epoch 83/100\n",
            "157/157 [==============================] - 1s 8ms/step - loss: 0.0084 - acc: 0.2689 - val_loss: 0.0089 - val_acc: 0.2156\n",
            "Epoch 84/100\n",
            "157/157 [==============================] - 1s 9ms/step - loss: 0.0084 - acc: 0.2694 - val_loss: 0.0090 - val_acc: 0.2133\n",
            "Epoch 85/100\n",
            "157/157 [==============================] - 1s 9ms/step - loss: 0.0084 - acc: 0.2721 - val_loss: 0.0089 - val_acc: 0.2110\n",
            "Epoch 86/100\n",
            "157/157 [==============================] - 1s 9ms/step - loss: 0.0084 - acc: 0.2715 - val_loss: 0.0089 - val_acc: 0.2145\n",
            "Epoch 87/100\n",
            "157/157 [==============================] - 1s 9ms/step - loss: 0.0084 - acc: 0.2735 - val_loss: 0.0089 - val_acc: 0.2194\n",
            "Epoch 88/100\n",
            "157/157 [==============================] - 1s 8ms/step - loss: 0.0084 - acc: 0.2738 - val_loss: 0.0089 - val_acc: 0.2189\n",
            "Epoch 89/100\n",
            "157/157 [==============================] - 1s 9ms/step - loss: 0.0084 - acc: 0.2777 - val_loss: 0.0089 - val_acc: 0.2132\n",
            "Epoch 90/100\n",
            "157/157 [==============================] - 1s 8ms/step - loss: 0.0084 - acc: 0.2736 - val_loss: 0.0089 - val_acc: 0.2156\n",
            "Epoch 91/100\n",
            "157/157 [==============================] - 1s 9ms/step - loss: 0.0084 - acc: 0.2733 - val_loss: 0.0089 - val_acc: 0.2195\n",
            "Epoch 92/100\n",
            "157/157 [==============================] - 1s 8ms/step - loss: 0.0084 - acc: 0.2756 - val_loss: 0.0089 - val_acc: 0.2186\n",
            "Epoch 93/100\n",
            "157/157 [==============================] - 1s 9ms/step - loss: 0.0083 - acc: 0.2775 - val_loss: 0.0090 - val_acc: 0.2076\n",
            "Epoch 94/100\n",
            "157/157 [==============================] - 1s 9ms/step - loss: 0.0083 - acc: 0.2787 - val_loss: 0.0090 - val_acc: 0.2090\n",
            "Epoch 95/100\n",
            "157/157 [==============================] - 1s 8ms/step - loss: 0.0083 - acc: 0.2781 - val_loss: 0.0089 - val_acc: 0.2165\n",
            "Epoch 96/100\n",
            "157/157 [==============================] - 1s 9ms/step - loss: 0.0083 - acc: 0.2813 - val_loss: 0.0089 - val_acc: 0.2179\n",
            "Epoch 97/100\n",
            "157/157 [==============================] - 1s 9ms/step - loss: 0.0083 - acc: 0.2795 - val_loss: 0.0089 - val_acc: 0.2169\n",
            "Epoch 98/100\n",
            "157/157 [==============================] - 1s 9ms/step - loss: 0.0083 - acc: 0.2786 - val_loss: 0.0089 - val_acc: 0.2184\n",
            "Epoch 99/100\n",
            "157/157 [==============================] - 1s 9ms/step - loss: 0.0083 - acc: 0.2804 - val_loss: 0.0089 - val_acc: 0.2171\n",
            "Epoch 100/100\n",
            "157/157 [==============================] - 1s 8ms/step - loss: 0.0083 - acc: 0.2802 - val_loss: 0.0089 - val_acc: 0.2155\n"
          ]
        }
      ]
    },
    {
      "cell_type": "code",
      "source": [
        "plt.subplot(211)\n",
        "plt.title('val_loss')\n",
        "plt.plot(history.history['val_loss'], color='blue',\n",
        "label='train')"
      ],
      "metadata": {
        "colab": {
          "base_uri": "https://localhost:8080/",
          "height": 180
        },
        "id": "bzxdyA0IMkOk",
        "outputId": "8c1ca1d4-68de-4108-f48c-62e4701f4580"
      },
      "execution_count": null,
      "outputs": [
        {
          "output_type": "execute_result",
          "data": {
            "text/plain": [
              "[<matplotlib.lines.Line2D at 0x7ff74c5bb6d0>]"
            ]
          },
          "metadata": {},
          "execution_count": 6
        },
        {
          "output_type": "display_data",
          "data": {
            "text/plain": [
              "<Figure size 432x288 with 1 Axes>"
            ],
            "image/png": "[encoded data removed]"
          },
          "metadata": {
            "needs_background": "light"
          }
        }
      ]
    },
    {
      "cell_type": "code",
      "source": [
        "model.save('cifar100_ann.h5')"
      ],
      "metadata": {
        "id": "9sMToF9dMl1r"
      },
      "execution_count": null,
      "outputs": []
    },
    {
      "cell_type": "code",
      "source": [
        "plt.subplot(212)\n",
        "plt.title('Val Accuracy')\n",
        "plt.plot(history.history['val_acc'], color='blue',\n",
        "label='train')\n",
        "test =18\n",
        "Label = ['apple', 'aquarium_fish', 'baby', 'bear','beaver', 'bed', 'bee', 'beetle', 'bicycle', 'bottle','bowl', 'boy', \n",
        "'bridge', 'bus', 'butterfly', 'camel','can', 'castle', 'caterpillar', 'cattle', 'chair','chimpanzee', 'clock', \n",
        "'cloud', 'cockroach', 'couch','crab', 'crocodile', 'cup', 'dinosaur', 'dolphin','elephant', 'flatfish', 'forest', 'fox', 'girl', 'hamster',\n",
        "'house', 'kangaroo', 'keyboard', 'lamp','lawn_mower', 'leopard', 'lion', 'lizard', 'lobster',\n",
        "'man', 'maple_tree', 'motorcycle', 'mountain','mouse', 'mushroom', 'oak_tree', 'orange', 'orchid',\n",
        "'otter', 'palm_tree', 'pear', 'pickup_truck','pine_tree', 'plain', 'plate', 'poppy', 'porcupine',\n",
        "'possum', 'rabbit', 'raccoon', 'ray', 'road', 'rocket','rose', 'sea', 'seal', 'shark', 'shrew', 'skunk',\n",
        "'skyscraper', 'snail', 'snake', 'spider', 'squirrel','streetcar', 'sunflower', 'sweet_pepper', 'table',\n",
        "'tank', 'telephone', 'television', 'tiger', 'tractor','train', 'trout', 'tulip', 'turtle', 'wardrobe', 'whale',\n",
        "'willow_tree', 'wolf', 'woman', 'worm']\n",
        "plt.title(\" Object: \" +\n",
        "str(Label[np.argmax(model.predict(x_pre[test].reshape(-1,3072)))]))\n",
        "plt.imshow(x_pre[test],cmap=plt.get_cmap('gray'))"
      ],
      "metadata": {
        "colab": {
          "base_uri": "https://localhost:8080/",
          "height": 180
        },
        "id": "T8cUV75pMsiU",
        "outputId": "5cbc7f7e-46a9-46b3-b639-88061566f239"
      },
      "execution_count": null,
      "outputs": [
        {
          "output_type": "execute_result",
          "data": {
            "text/plain": [
              "<matplotlib.image.AxesImage at 0x7ff74008b110>"
            ]
          },
          "metadata": {},
          "execution_count": 8
        },
        {
          "output_type": "display_data",
          "data": {
            "text/plain": [
              "<Figure size 432x288 with 1 Axes>"
            ],
            "image/png": "[encoded data removed]"
          },
          "metadata": {
            "needs_background": "light"
          }
        }
      ]
    },
    {
      "cell_type": "code",
      "source": [
        "from google.colab import drive\n",
        "drive.mount('/content/drive')\n",
        "!wget -nc https://raw.githubusercontent.com/brpy/colab-pdf/master/colab_pdf.py\n",
        "from colab_pdf import colab_pdf\n",
        "colab_pdf('cifar100_ann.ipynb')"
      ],
      "metadata": {
        "colab": {
          "base_uri": "https://localhost:8080/",
          "height": 504
        },
        "id": "s56mB-upMyfn",
        "outputId": "4beeb00d-2428-4947-cf72-24ae5d8964e9"
      },
      "execution_count": null,
      "outputs": [
        {
          "output_type": "stream",
          "name": "stdout",
          "text": [
            "Mounted at /content/drive\n",
            "--2022-05-19 07:24:13--  https://raw.githubusercontent.com/brpy/colab-pdf/master/colab_pdf.py\n",
            "Resolving raw.githubusercontent.com (raw.githubusercontent.com)... 185.199.108.133, 185.199.109.133, 185.199.110.133, ...\n",
            "Connecting to raw.githubusercontent.com (raw.githubusercontent.com)|185.199.108.133|:443... connected.\n",
            "HTTP request sent, awaiting response... 200 OK\n",
            "Length: 1864 (1.8K) [text/plain]\n",
            "Saving to: ‘colab_pdf.py’\n",
            "\n",
            "colab_pdf.py        100%[===================>]   1.82K  --.-KB/s    in 0s      \n",
            "\n",
            "2022-05-19 07:24:13 (17.1 MB/s) - ‘colab_pdf.py’ saved [1864/1864]\n",
            "\n",
            "\n",
            "WARNING: apt does not have a stable CLI interface. Use with caution in scripts.\n",
            "\n",
            "\n",
            "WARNING: apt does not have a stable CLI interface. Use with caution in scripts.\n",
            "\n",
            "Extracting templates from packages: 100%\n",
            "[NbConvertApp] Converting notebook /content/drive/MyDrive/Colab Notebooks/cifar100_ann.ipynb to pdf\n",
            "[NbConvertApp] Writing 29729 bytes to ./notebook.tex\n",
            "[NbConvertApp] Building PDF\n",
            "[NbConvertApp] Running xelatex 3 times: ['xelatex', './notebook.tex', '-quiet']\n",
            "[NbConvertApp] Running bibtex 1 time: ['bibtex', './notebook']\n",
            "[NbConvertApp] WARNING | bibtex had problems, most likely because there were no citations\n",
            "[NbConvertApp] PDF successfully created\n",
            "[NbConvertApp] Writing 26109 bytes to /content/drive/My Drive/cifar100_ann.pdf\n"
          ]
        },
        {
          "output_type": "display_data",
          "data": {
            "text/plain": [
              "<IPython.core.display.Javascript object>"
            ],
            "application/javascript": [
              "\n",
              "    async function download(id, filename, size) {\n",
              "      if (!google.colab.kernel.accessAllowed) {\n",
              "        return;\n",
              "      }\n",
              "      const div = document.createElement('div');\n",
              "      const label = document.createElement('label');\n",
              "      label.textContent = `Downloading \"${filename}\": `;\n",
              "      div.appendChild(label);\n",
              "      const progress = document.createElement('progress');\n",
              "      progress.max = size;\n",
              "      div.appendChild(progress);\n",
              "      document.body.appendChild(div);\n",
              "\n",
              "      const buffers = [];\n",
              "      let downloaded = 0;\n",
              "\n",
              "      const channel = await google.colab.kernel.comms.open(id);\n",
              "      // Send a message to notify the kernel that we're ready.\n",
              "      channel.send({})\n",
              "\n",
              "      for await (const message of channel.messages) {\n",
              "        // Send a message to notify the kernel that we're ready.\n",
              "        channel.send({})\n",
              "        if (message.buffers) {\n",
              "          for (const buffer of message.buffers) {\n",
              "            buffers.push(buffer);\n",
              "            downloaded += buffer.byteLength;\n",
              "            progress.value = downloaded;\n",
              "          }\n",
              "        }\n",
              "      }\n",
              "      const blob = new Blob(buffers, {type: 'application/binary'});\n",
              "      const a = document.createElement('a');\n",
              "      a.href = window.URL.createObjectURL(blob);\n",
              "      a.download = filename;\n",
              "      div.appendChild(a);\n",
              "      a.click();\n",
              "      div.remove();\n",
              "    }\n",
              "  "
            ]
          },
          "metadata": {}
        },
        {
          "output_type": "display_data",
          "data": {
            "text/plain": [
              "<IPython.core.display.Javascript object>"
            ],
            "application/javascript": [
              "download(\"download_096ad250-f9db-4b79-9d21-e85d63bf49a0\", \"cifar100_ann.pdf\", 26109)"
            ]
          },
          "metadata": {}
        },
        {
          "output_type": "execute_result",
          "data": {
            "text/plain": [
              "'File ready to be Downloaded and Saved to Drive'"
            ],
            "application/vnd.google.colaboratory.intrinsic+json": {
              "type": "string"
            }
          },
          "metadata": {},
          "execution_count": 9
        }
      ]
    }
  ]
}